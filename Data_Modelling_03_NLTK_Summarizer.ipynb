{
  "nbformat": 4,
  "nbformat_minor": 0,
  "metadata": {
    "colab": {
      "provenance": []
    },
    "kernelspec": {
      "name": "python3",
      "display_name": "Python 3"
    },
    "language_info": {
      "name": "python"
    }
  },
  "cells": [
    {
      "cell_type": "markdown",
      "source": [
        "NLTK Summarizer\n",
        "TF: Term Frequency — Measures how frequently a term occurs in a document. Since every document is different in length, it is possible that a term would appear many more times in long documents than shorter ones. Thus, the term frequency is often divided by the document length, such as the total number of terms in the document,as a way of normalization.\n",
        "\n",
        "TF(t) = (Number of times term t appears in a document) / (Total number of terms in the document)\n",
        "\n",
        "NLTK summarization involves 5 steps\n",
        "\n",
        "Create the word frequency table\n",
        "\n",
        "Tokenize the sentences\n",
        "\n",
        "Score the sentences: Term frequency\n",
        "\n",
        "Find the threshold"
      ],
      "metadata": {
        "id": "ri4DLJHJr_IC"
      }
    },
    {
      "cell_type": "code",
      "source": [
        "from google.colab import drive\n",
        "drive.mount('/content/drive')"
      ],
      "metadata": {
        "colab": {
          "base_uri": "https://localhost:8080/"
        },
        "id": "bMT-tdNNpDHe",
        "outputId": "fcfd1e1f-c4b4-4b1e-b074-5d36fd1dcccb"
      },
      "execution_count": 29,
      "outputs": [
        {
          "output_type": "stream",
          "name": "stdout",
          "text": [
            "Drive already mounted at /content/drive; to attempt to forcibly remount, call drive.mount(\"/content/drive\", force_remount=True).\n"
          ]
        }
      ]
    },
    {
      "cell_type": "code",
      "source": [
        "import nltk\n",
        "from string import punctuation\n",
        "from nltk.corpus import stopwords\n",
        "from nltk.tokenize import word_tokenize\n",
        "from nltk.tokenize import sent_tokenize\n",
        "import pandas as pd # dataframe processing"
      ],
      "metadata": {
        "id": "d9VeFGQXpKwz"
      },
      "execution_count": 30,
      "outputs": []
    },
    {
      "cell_type": "code",
      "source": [
        "article =  df=pd.read_csv(\"/content/drive/MyDrive/medicine_articles.csv\")\n",
        "df.head()"
      ],
      "metadata": {
        "colab": {
          "base_uri": "https://localhost:8080/",
          "height": 206
        },
        "id": "slk67eaYpQgh",
        "outputId": "7a755eba-2a6f-4c8d-c59c-4e169d2e851a"
      },
      "execution_count": 31,
      "outputs": [
        {
          "output_type": "execute_result",
          "data": {
            "text/plain": [
              "   Unnamed: 0  pubmed_id                                           all_text\n",
              "0           0    9815484  b'Vertebral artery dissection (VAD) is a commo...\n",
              "1           1    9839201  b'Long COVID is an often debilitating illness ...\n",
              "2           2    9930320  b'Wrist-ankle acupuncture (WAA) has been repor...\n",
              "3           3   10018610  b'Molnupiravir is an oral antiviral drug that ...\n",
              "4           4    9922164  b'Human prion protein and prion-like protein m..."
            ],
            "text/html": [
              "\n",
              "  <div id=\"df-35e3b50b-827b-486d-b8cc-b626bc59fa17\">\n",
              "    <div class=\"colab-df-container\">\n",
              "      <div>\n",
              "<style scoped>\n",
              "    .dataframe tbody tr th:only-of-type {\n",
              "        vertical-align: middle;\n",
              "    }\n",
              "\n",
              "    .dataframe tbody tr th {\n",
              "        vertical-align: top;\n",
              "    }\n",
              "\n",
              "    .dataframe thead th {\n",
              "        text-align: right;\n",
              "    }\n",
              "</style>\n",
              "<table border=\"1\" class=\"dataframe\">\n",
              "  <thead>\n",
              "    <tr style=\"text-align: right;\">\n",
              "      <th></th>\n",
              "      <th>Unnamed: 0</th>\n",
              "      <th>pubmed_id</th>\n",
              "      <th>all_text</th>\n",
              "    </tr>\n",
              "  </thead>\n",
              "  <tbody>\n",
              "    <tr>\n",
              "      <th>0</th>\n",
              "      <td>0</td>\n",
              "      <td>9815484</td>\n",
              "      <td>b'Vertebral artery dissection (VAD) is a commo...</td>\n",
              "    </tr>\n",
              "    <tr>\n",
              "      <th>1</th>\n",
              "      <td>1</td>\n",
              "      <td>9839201</td>\n",
              "      <td>b'Long COVID is an often debilitating illness ...</td>\n",
              "    </tr>\n",
              "    <tr>\n",
              "      <th>2</th>\n",
              "      <td>2</td>\n",
              "      <td>9930320</td>\n",
              "      <td>b'Wrist-ankle acupuncture (WAA) has been repor...</td>\n",
              "    </tr>\n",
              "    <tr>\n",
              "      <th>3</th>\n",
              "      <td>3</td>\n",
              "      <td>10018610</td>\n",
              "      <td>b'Molnupiravir is an oral antiviral drug that ...</td>\n",
              "    </tr>\n",
              "    <tr>\n",
              "      <th>4</th>\n",
              "      <td>4</td>\n",
              "      <td>9922164</td>\n",
              "      <td>b'Human prion protein and prion-like protein m...</td>\n",
              "    </tr>\n",
              "  </tbody>\n",
              "</table>\n",
              "</div>\n",
              "      <button class=\"colab-df-convert\" onclick=\"convertToInteractive('df-35e3b50b-827b-486d-b8cc-b626bc59fa17')\"\n",
              "              title=\"Convert this dataframe to an interactive table.\"\n",
              "              style=\"display:none;\">\n",
              "        \n",
              "  <svg xmlns=\"http://www.w3.org/2000/svg\" height=\"24px\"viewBox=\"0 0 24 24\"\n",
              "       width=\"24px\">\n",
              "    <path d=\"M0 0h24v24H0V0z\" fill=\"none\"/>\n",
              "    <path d=\"M18.56 5.44l.94 2.06.94-2.06 2.06-.94-2.06-.94-.94-2.06-.94 2.06-2.06.94zm-11 1L8.5 8.5l.94-2.06 2.06-.94-2.06-.94L8.5 2.5l-.94 2.06-2.06.94zm10 10l.94 2.06.94-2.06 2.06-.94-2.06-.94-.94-2.06-.94 2.06-2.06.94z\"/><path d=\"M17.41 7.96l-1.37-1.37c-.4-.4-.92-.59-1.43-.59-.52 0-1.04.2-1.43.59L10.3 9.45l-7.72 7.72c-.78.78-.78 2.05 0 2.83L4 21.41c.39.39.9.59 1.41.59.51 0 1.02-.2 1.41-.59l7.78-7.78 2.81-2.81c.8-.78.8-2.07 0-2.86zM5.41 20L4 18.59l7.72-7.72 1.47 1.35L5.41 20z\"/>\n",
              "  </svg>\n",
              "      </button>\n",
              "      \n",
              "  <style>\n",
              "    .colab-df-container {\n",
              "      display:flex;\n",
              "      flex-wrap:wrap;\n",
              "      gap: 12px;\n",
              "    }\n",
              "\n",
              "    .colab-df-convert {\n",
              "      background-color: #E8F0FE;\n",
              "      border: none;\n",
              "      border-radius: 50%;\n",
              "      cursor: pointer;\n",
              "      display: none;\n",
              "      fill: #1967D2;\n",
              "      height: 32px;\n",
              "      padding: 0 0 0 0;\n",
              "      width: 32px;\n",
              "    }\n",
              "\n",
              "    .colab-df-convert:hover {\n",
              "      background-color: #E2EBFA;\n",
              "      box-shadow: 0px 1px 2px rgba(60, 64, 67, 0.3), 0px 1px 3px 1px rgba(60, 64, 67, 0.15);\n",
              "      fill: #174EA6;\n",
              "    }\n",
              "\n",
              "    [theme=dark] .colab-df-convert {\n",
              "      background-color: #3B4455;\n",
              "      fill: #D2E3FC;\n",
              "    }\n",
              "\n",
              "    [theme=dark] .colab-df-convert:hover {\n",
              "      background-color: #434B5C;\n",
              "      box-shadow: 0px 1px 3px 1px rgba(0, 0, 0, 0.15);\n",
              "      filter: drop-shadow(0px 1px 2px rgba(0, 0, 0, 0.3));\n",
              "      fill: #FFFFFF;\n",
              "    }\n",
              "  </style>\n",
              "\n",
              "      <script>\n",
              "        const buttonEl =\n",
              "          document.querySelector('#df-35e3b50b-827b-486d-b8cc-b626bc59fa17 button.colab-df-convert');\n",
              "        buttonEl.style.display =\n",
              "          google.colab.kernel.accessAllowed ? 'block' : 'none';\n",
              "\n",
              "        async function convertToInteractive(key) {\n",
              "          const element = document.querySelector('#df-35e3b50b-827b-486d-b8cc-b626bc59fa17');\n",
              "          const dataTable =\n",
              "            await google.colab.kernel.invokeFunction('convertToInteractive',\n",
              "                                                     [key], {});\n",
              "          if (!dataTable) return;\n",
              "\n",
              "          const docLinkHtml = 'Like what you see? Visit the ' +\n",
              "            '<a target=\"_blank\" href=https://colab.research.google.com/notebooks/data_table.ipynb>data table notebook</a>'\n",
              "            + ' to learn more about interactive tables.';\n",
              "          element.innerHTML = '';\n",
              "          dataTable['output_type'] = 'display_data';\n",
              "          await google.colab.output.renderOutput(dataTable, element);\n",
              "          const docLink = document.createElement('div');\n",
              "          docLink.innerHTML = docLinkHtml;\n",
              "          element.appendChild(docLink);\n",
              "        }\n",
              "      </script>\n",
              "    </div>\n",
              "  </div>\n",
              "  "
            ]
          },
          "metadata": {},
          "execution_count": 31
        }
      ]
    },
    {
      "cell_type": "code",
      "source": [
        "#Generating a single article from the text body of the 2nd article\n",
        "text=df['all_text'][1]"
      ],
      "metadata": {
        "id": "0mA-6d6qpYSI"
      },
      "execution_count": 32,
      "outputs": []
    },
    {
      "cell_type": "code",
      "source": [
        "text"
      ],
      "metadata": {
        "colab": {
          "base_uri": "https://localhost:8080/",
          "height": 191
        },
        "id": "1Xkfooy3pfSP",
        "outputId": "6f9946a3-fb27-4435-fb00-d62b5967e670"
      },
      "execution_count": 33,
      "outputs": [
        {
          "output_type": "execute_result",
          "data": {
            "text/plain": [
              "\"b'Long COVID is an often debilitating illness that occurs in at least 10% of severe acute respiratory syndrome coronavirus\\\\xc2\\\\xa02 (SARS-CoV-2) infections. More than 200 symptoms have been identified with impacts on multiple organ systems. At least 65 million individuals worldwide are estimated to have long COVID, with cases increasing daily. Biomedical research has made substantial progress in identifying various pathophysiological changes and risk factors and in characterizing the illness; further, similarities with other viral-onset illnesses such as myalgic encephalomyelitis/chronic fatigue syndrome and postural orthostatic tachycardia syndrome have laid the groundwork for research in the field. In this Review, we explore the current literature and highlight key findings, the overlap with other conditions, the variable onset of symptoms, long COVID in children and the impact of vaccinations. Although these key findings are critical to understanding long COVID, current diagnostic and treatment options are insufficient, and clinical trials must be prioritized that address leading hypotheses. Additionally, to strengthen long COVID research, future studies must account for biases and SARS-CoV-2 testing issues, build on viral-onset research, be inclusive of marginalized populations and meaningfully engage patients throughout the research process. None Long COVID is a multisystemic illness encompassing ME/CFS, dysautonomia, impacts on multiple organ systems, and vascular and clotting abnormalities. It has already debilitated millions of individuals worldwide, and that number is continuing to grow. On the basis of more than 2 years of research on long COVID and decades of research on conditions such as ME/CFS, a significant proportion of individuals with long COVID may have lifelong disabilities if no action is taken. Diagnostic and treatment options are currently insufficient, and many clinical trials are urgently needed to rigorously test treatments that address hypothesized underlying biological mechanisms, including viral persistence, neuroinflammation, excessive blood clotting and autoimmunity.'\""
            ],
            "application/vnd.google.colaboratory.intrinsic+json": {
              "type": "string"
            }
          },
          "metadata": {},
          "execution_count": 33
        }
      ]
    },
    {
      "cell_type": "code",
      "source": [
        "#split the words in each sentence into tokens -tokenization\n",
        "import nltk\n",
        "nltk.download('punkt')\n",
        "tokens = word_tokenize(text)"
      ],
      "metadata": {
        "colab": {
          "base_uri": "https://localhost:8080/"
        },
        "id": "VffhXPQOpjwm",
        "outputId": "2dfd3e40-3187-4580-841f-b94c8b2016a5"
      },
      "execution_count": 34,
      "outputs": [
        {
          "output_type": "stream",
          "name": "stderr",
          "text": [
            "[nltk_data] Downloading package punkt to /root/nltk_data...\n",
            "[nltk_data]   Package punkt is already up-to-date!\n"
          ]
        }
      ]
    },
    {
      "cell_type": "code",
      "source": [
        "#we create a dictionary for the word frequency table from the text.\n",
        "#For this, we should only use the words that are not part of the stopwords\n",
        "from nltk.corpus import stopwords\n",
        "import nltk\n",
        "nltk.download('stopwords')\n",
        "\n",
        "stop_words = set(stopwords.words('english'))\n",
        "\n",
        "#add words that aren't in the NLTK stopwords list\n",
        "new_stopwords = ['doi', 'preprint', 'copyright', 'peer', 'reviewed', 'org', 'https', 'et', 'al', 'author', 'figure','journals','april', \n",
        "    'rights', 'reserved', 'permission', 'used', 'using', 'biorxiv', 'medrxiv', 'license', 'fig', 'fig.','al.', 'Elsevier',\n",
        "    'PMC', 'CZI', 'www','image','figures','tables','introduction','materials and methods','results']\n",
        "new_stopwords_list = stop_words.union(new_stopwords)\n",
        "\n",
        "#remove words that are in NLTK stopwords list\n",
        "not_stopwords = {'not', 'may'} \n",
        "final_stop_words = set([word for word in new_stopwords_list if word not in not_stopwords])\n",
        "\n",
        "print(final_stop_words)"
      ],
      "metadata": {
        "colab": {
          "base_uri": "https://localhost:8080/"
        },
        "id": "IofMRjOWpoTe",
        "outputId": "1228872b-7dcf-438c-8b8f-ba5b63430bce"
      },
      "execution_count": 35,
      "outputs": [
        {
          "output_type": "stream",
          "name": "stdout",
          "text": [
            "{\"weren't\", 'on', \"it's\", 'they', 'peer', 'is', 'there', 'y', 'did', 'more', 'how', 's', 'my', 'to', 'during', \"you're\", 'yourself', 'reserved', 'isn', 'so', 'using', 'down', 'theirs', 'other', \"mightn't\", 'won', 'than', 'if', 'al', 'https', \"couldn't\", 'weren', 'being', 'fig.', 'wouldn', 'this', 'only', 'shan', 'which', 'figures', 'your', 'biorxiv', 'et', 'al.', 'nor', \"you've\", 'we', 'below', 'just', 'author', 'o', 'under', 'what', 'these', 'again', 'himself', 'copyright', 'both', \"won't\", 'for', 'it', 'into', 'aren', 'once', 've', 'such', \"aren't\", 'an', \"didn't\", 'PMC', 'few', \"she's\", 'been', 'CZI', 'are', 'after', 'preprint', 'above', 'as', \"you'd\", 'from', 'those', 'same', 'reviewed', 'when', 'materials and methods', 'any', 'of', 'ours', 'some', 'yourselves', 'hers', 'has', 'whom', 'rights', 'tables', 'mightn', 'she', 'where', 'its', 'why', 'herself', 'too', 'm', 'having', 'results', 'introduction', 'their', 'don', 'figure', 'or', 't', 'd', 'because', 'him', 'that', 'license', 'me', \"you'll\", 'while', 'were', 'journals', 'april', 'you', 'own', 'at', 'most', 'www', 'them', 'a', \"should've\", 'each', 'needn', 'll', 'further', 'all', 'do', 'ain', \"isn't\", 'here', 'her', 'in', 'permission', 'between', 'couldn', 'used', 'ma', 'doi', 'i', 'will', \"hadn't\", \"don't\", 'does', 'and', 'the', 'have', 'through', 'ourselves', 'but', \"mustn't\", 'doing', 'myself', 'his', 'by', 'itself', \"shouldn't\", 'about', 'hasn', \"doesn't\", 'mustn', 'our', 'themselves', 'against', \"wouldn't\", 'was', 'org', 'should', \"that'll\", 're', 'Elsevier', 'up', \"haven't\", \"wasn't\", 'image', 'he', 'then', 'with', 'who', 'before', \"shan't\", 'yours', 'am', 'had', 'off', 'medrxiv', 'now', 'haven', 'be', 'very', 'didn', 'out', 'until', 'hadn', \"needn't\", 'fig', 'shouldn', \"hasn't\", 'no', 'wasn', 'doesn', 'over', 'can'}\n"
          ]
        },
        {
          "output_type": "stream",
          "name": "stderr",
          "text": [
            "[nltk_data] Downloading package stopwords to /root/nltk_data...\n",
            "[nltk_data]   Package stopwords is already up-to-date!\n"
          ]
        }
      ]
    },
    {
      "cell_type": "code",
      "source": [
        "#Remove the punctuations\n",
        "punctuation = punctuation + '\\n'\n",
        "punctuation"
      ],
      "metadata": {
        "colab": {
          "base_uri": "https://localhost:8080/",
          "height": 35
        },
        "id": "9smVxN68pziJ",
        "outputId": "7e38fc87-2035-40ed-a65f-5820b4298d3c"
      },
      "execution_count": 36,
      "outputs": [
        {
          "output_type": "execute_result",
          "data": {
            "text/plain": [
              "'!\"#$%&\\'()*+,-./:;<=>?@[\\\\]^_`{|}~\\n'"
            ],
            "application/vnd.google.colaboratory.intrinsic+json": {
              "type": "string"
            }
          },
          "metadata": {},
          "execution_count": 36
        }
      ]
    },
    {
      "cell_type": "code",
      "source": [
        "#Generate the word frequencies  to score each sentence\n",
        "word_frequencies = {}\n",
        "for word in tokens:    \n",
        "    if word.lower() not in stop_words:\n",
        "        if word.lower() not in punctuation:\n",
        "            if word not in word_frequencies.keys():\n",
        "                word_frequencies[word] = 1\n",
        "            else:\n",
        "                word_frequencies[word] += 1"
      ],
      "metadata": {
        "id": "6hj2oAD2qAIr"
      },
      "execution_count": 37,
      "outputs": []
    },
    {
      "cell_type": "code",
      "source": [
        "word_frequencies"
      ],
      "metadata": {
        "colab": {
          "base_uri": "https://localhost:8080/"
        },
        "id": "ge4Hzsa5qDEu",
        "outputId": "c7725b67-e873-4ae4-f725-8e8416bf6da2"
      },
      "execution_count": 38,
      "outputs": [
        {
          "output_type": "execute_result",
          "data": {
            "text/plain": [
              "{\"b'Long\": 1,\n",
              " 'COVID': 8,\n",
              " 'often': 1,\n",
              " 'debilitating': 1,\n",
              " 'illness': 3,\n",
              " 'occurs': 1,\n",
              " 'least': 2,\n",
              " '10': 1,\n",
              " 'severe': 1,\n",
              " 'acute': 1,\n",
              " 'respiratory': 1,\n",
              " 'syndrome': 3,\n",
              " 'coronavirus\\\\xc2\\\\xa02': 1,\n",
              " 'SARS-CoV-2': 2,\n",
              " 'infections': 1,\n",
              " '200': 1,\n",
              " 'symptoms': 2,\n",
              " 'identified': 1,\n",
              " 'impacts': 2,\n",
              " 'multiple': 2,\n",
              " 'organ': 2,\n",
              " 'systems': 2,\n",
              " '65': 1,\n",
              " 'million': 1,\n",
              " 'individuals': 3,\n",
              " 'worldwide': 2,\n",
              " 'estimated': 1,\n",
              " 'long': 6,\n",
              " 'cases': 1,\n",
              " 'increasing': 1,\n",
              " 'daily': 1,\n",
              " 'Biomedical': 1,\n",
              " 'research': 7,\n",
              " 'made': 1,\n",
              " 'substantial': 1,\n",
              " 'progress': 1,\n",
              " 'identifying': 1,\n",
              " 'various': 1,\n",
              " 'pathophysiological': 1,\n",
              " 'changes': 1,\n",
              " 'risk': 1,\n",
              " 'factors': 1,\n",
              " 'characterizing': 1,\n",
              " 'similarities': 1,\n",
              " 'viral-onset': 2,\n",
              " 'illnesses': 1,\n",
              " 'myalgic': 1,\n",
              " 'encephalomyelitis/chronic': 1,\n",
              " 'fatigue': 1,\n",
              " 'postural': 1,\n",
              " 'orthostatic': 1,\n",
              " 'tachycardia': 1,\n",
              " 'laid': 1,\n",
              " 'groundwork': 1,\n",
              " 'field': 1,\n",
              " 'Review': 1,\n",
              " 'explore': 1,\n",
              " 'current': 2,\n",
              " 'literature': 1,\n",
              " 'highlight': 1,\n",
              " 'key': 2,\n",
              " 'findings': 2,\n",
              " 'overlap': 1,\n",
              " 'conditions': 2,\n",
              " 'variable': 1,\n",
              " 'onset': 1,\n",
              " 'children': 1,\n",
              " 'impact': 1,\n",
              " 'vaccinations': 1,\n",
              " 'Although': 1,\n",
              " 'critical': 1,\n",
              " 'understanding': 1,\n",
              " 'diagnostic': 1,\n",
              " 'treatment': 2,\n",
              " 'options': 2,\n",
              " 'insufficient': 2,\n",
              " 'clinical': 2,\n",
              " 'trials': 2,\n",
              " 'must': 2,\n",
              " 'prioritized': 1,\n",
              " 'address': 2,\n",
              " 'leading': 1,\n",
              " 'hypotheses': 1,\n",
              " 'Additionally': 1,\n",
              " 'strengthen': 1,\n",
              " 'future': 1,\n",
              " 'studies': 1,\n",
              " 'account': 1,\n",
              " 'biases': 1,\n",
              " 'testing': 1,\n",
              " 'issues': 1,\n",
              " 'build': 1,\n",
              " 'inclusive': 1,\n",
              " 'marginalized': 1,\n",
              " 'populations': 1,\n",
              " 'meaningfully': 1,\n",
              " 'engage': 1,\n",
              " 'patients': 1,\n",
              " 'throughout': 1,\n",
              " 'process': 1,\n",
              " 'None': 1,\n",
              " 'Long': 1,\n",
              " 'multisystemic': 1,\n",
              " 'encompassing': 1,\n",
              " 'ME/CFS': 2,\n",
              " 'dysautonomia': 1,\n",
              " 'vascular': 1,\n",
              " 'clotting': 2,\n",
              " 'abnormalities': 1,\n",
              " 'already': 1,\n",
              " 'debilitated': 1,\n",
              " 'millions': 1,\n",
              " 'number': 1,\n",
              " 'continuing': 1,\n",
              " 'grow': 1,\n",
              " 'basis': 1,\n",
              " '2': 1,\n",
              " 'years': 1,\n",
              " 'decades': 1,\n",
              " 'significant': 1,\n",
              " 'proportion': 1,\n",
              " 'may': 1,\n",
              " 'lifelong': 1,\n",
              " 'disabilities': 1,\n",
              " 'action': 1,\n",
              " 'taken': 1,\n",
              " 'Diagnostic': 1,\n",
              " 'currently': 1,\n",
              " 'many': 1,\n",
              " 'urgently': 1,\n",
              " 'needed': 1,\n",
              " 'rigorously': 1,\n",
              " 'test': 1,\n",
              " 'treatments': 1,\n",
              " 'hypothesized': 1,\n",
              " 'underlying': 1,\n",
              " 'biological': 1,\n",
              " 'mechanisms': 1,\n",
              " 'including': 1,\n",
              " 'viral': 1,\n",
              " 'persistence': 1,\n",
              " 'neuroinflammation': 1,\n",
              " 'excessive': 1,\n",
              " 'blood': 1,\n",
              " 'autoimmunity': 1}"
            ]
          },
          "metadata": {},
          "execution_count": 38
        }
      ]
    },
    {
      "cell_type": "code",
      "source": [
        "max_frequency = max(word_frequencies.values())\n",
        "print(max_frequency)"
      ],
      "metadata": {
        "colab": {
          "base_uri": "https://localhost:8080/"
        },
        "id": "_QB82QdcqEB8",
        "outputId": "e2f2b03b-df4a-4da0-d53f-ac4bc6d48b69"
      },
      "execution_count": 39,
      "outputs": [
        {
          "output_type": "stream",
          "name": "stdout",
          "text": [
            "8\n"
          ]
        }
      ]
    },
    {
      "cell_type": "code",
      "source": [
        "\n",
        "for word in word_frequencies.keys():\n",
        "    word_frequencies[word] = word_frequencies[word]/max_frequency"
      ],
      "metadata": {
        "id": "DnmWMxmpqLNd"
      },
      "execution_count": 40,
      "outputs": []
    },
    {
      "cell_type": "code",
      "source": [
        "print(word_frequencies)"
      ],
      "metadata": {
        "colab": {
          "base_uri": "https://localhost:8080/"
        },
        "id": "HEmuAqllqOiL",
        "outputId": "26be9c44-2e7b-44ca-ab20-6a443d99e673"
      },
      "execution_count": 41,
      "outputs": [
        {
          "output_type": "stream",
          "name": "stdout",
          "text": [
            "{\"b'Long\": 0.125, 'COVID': 1.0, 'often': 0.125, 'debilitating': 0.125, 'illness': 0.375, 'occurs': 0.125, 'least': 0.25, '10': 0.125, 'severe': 0.125, 'acute': 0.125, 'respiratory': 0.125, 'syndrome': 0.375, 'coronavirus\\\\xc2\\\\xa02': 0.125, 'SARS-CoV-2': 0.25, 'infections': 0.125, '200': 0.125, 'symptoms': 0.25, 'identified': 0.125, 'impacts': 0.25, 'multiple': 0.25, 'organ': 0.25, 'systems': 0.25, '65': 0.125, 'million': 0.125, 'individuals': 0.375, 'worldwide': 0.25, 'estimated': 0.125, 'long': 0.75, 'cases': 0.125, 'increasing': 0.125, 'daily': 0.125, 'Biomedical': 0.125, 'research': 0.875, 'made': 0.125, 'substantial': 0.125, 'progress': 0.125, 'identifying': 0.125, 'various': 0.125, 'pathophysiological': 0.125, 'changes': 0.125, 'risk': 0.125, 'factors': 0.125, 'characterizing': 0.125, 'similarities': 0.125, 'viral-onset': 0.25, 'illnesses': 0.125, 'myalgic': 0.125, 'encephalomyelitis/chronic': 0.125, 'fatigue': 0.125, 'postural': 0.125, 'orthostatic': 0.125, 'tachycardia': 0.125, 'laid': 0.125, 'groundwork': 0.125, 'field': 0.125, 'Review': 0.125, 'explore': 0.125, 'current': 0.25, 'literature': 0.125, 'highlight': 0.125, 'key': 0.25, 'findings': 0.25, 'overlap': 0.125, 'conditions': 0.25, 'variable': 0.125, 'onset': 0.125, 'children': 0.125, 'impact': 0.125, 'vaccinations': 0.125, 'Although': 0.125, 'critical': 0.125, 'understanding': 0.125, 'diagnostic': 0.125, 'treatment': 0.25, 'options': 0.25, 'insufficient': 0.25, 'clinical': 0.25, 'trials': 0.25, 'must': 0.25, 'prioritized': 0.125, 'address': 0.25, 'leading': 0.125, 'hypotheses': 0.125, 'Additionally': 0.125, 'strengthen': 0.125, 'future': 0.125, 'studies': 0.125, 'account': 0.125, 'biases': 0.125, 'testing': 0.125, 'issues': 0.125, 'build': 0.125, 'inclusive': 0.125, 'marginalized': 0.125, 'populations': 0.125, 'meaningfully': 0.125, 'engage': 0.125, 'patients': 0.125, 'throughout': 0.125, 'process': 0.125, 'None': 0.125, 'Long': 0.125, 'multisystemic': 0.125, 'encompassing': 0.125, 'ME/CFS': 0.25, 'dysautonomia': 0.125, 'vascular': 0.125, 'clotting': 0.25, 'abnormalities': 0.125, 'already': 0.125, 'debilitated': 0.125, 'millions': 0.125, 'number': 0.125, 'continuing': 0.125, 'grow': 0.125, 'basis': 0.125, '2': 0.125, 'years': 0.125, 'decades': 0.125, 'significant': 0.125, 'proportion': 0.125, 'may': 0.125, 'lifelong': 0.125, 'disabilities': 0.125, 'action': 0.125, 'taken': 0.125, 'Diagnostic': 0.125, 'currently': 0.125, 'many': 0.125, 'urgently': 0.125, 'needed': 0.125, 'rigorously': 0.125, 'test': 0.125, 'treatments': 0.125, 'hypothesized': 0.125, 'underlying': 0.125, 'biological': 0.125, 'mechanisms': 0.125, 'including': 0.125, 'viral': 0.125, 'persistence': 0.125, 'neuroinflammation': 0.125, 'excessive': 0.125, 'blood': 0.125, 'autoimmunity': 0.125}\n"
          ]
        }
      ]
    },
    {
      "cell_type": "code",
      "source": [
        "# Score the sentences: Term frequency\n",
        "# We’re using the Term Frequency method to score each sentence.\n",
        "#Basic Algorithm: score a sentence by its words, adding the frequency of every non-stop word in a sentence.\n",
        "#each term is divided b the number of times in occurs in the corpus\n",
        "sent_token = sent_tokenize(text)\n",
        "sent_token"
      ],
      "metadata": {
        "colab": {
          "base_uri": "https://localhost:8080/"
        },
        "id": "9XjGRdUpqRJV",
        "outputId": "be9fb59d-6946-4613-da09-263de6da04d4"
      },
      "execution_count": 42,
      "outputs": [
        {
          "output_type": "execute_result",
          "data": {
            "text/plain": [
              "[\"b'Long COVID is an often debilitating illness that occurs in at least 10% of severe acute respiratory syndrome coronavirus\\\\xc2\\\\xa02 (SARS-CoV-2) infections.\",\n",
              " 'More than 200 symptoms have been identified with impacts on multiple organ systems.',\n",
              " 'At least 65 million individuals worldwide are estimated to have long COVID, with cases increasing daily.',\n",
              " 'Biomedical research has made substantial progress in identifying various pathophysiological changes and risk factors and in characterizing the illness; further, similarities with other viral-onset illnesses such as myalgic encephalomyelitis/chronic fatigue syndrome and postural orthostatic tachycardia syndrome have laid the groundwork for research in the field.',\n",
              " 'In this Review, we explore the current literature and highlight key findings, the overlap with other conditions, the variable onset of symptoms, long COVID in children and the impact of vaccinations.',\n",
              " 'Although these key findings are critical to understanding long COVID, current diagnostic and treatment options are insufficient, and clinical trials must be prioritized that address leading hypotheses.',\n",
              " 'Additionally, to strengthen long COVID research, future studies must account for biases and SARS-CoV-2 testing issues, build on viral-onset research, be inclusive of marginalized populations and meaningfully engage patients throughout the research process.',\n",
              " 'None Long COVID is a multisystemic illness encompassing ME/CFS, dysautonomia, impacts on multiple organ systems, and vascular and clotting abnormalities.',\n",
              " 'It has already debilitated millions of individuals worldwide, and that number is continuing to grow.',\n",
              " 'On the basis of more than 2 years of research on long COVID and decades of research on conditions such as ME/CFS, a significant proportion of individuals with long COVID may have lifelong disabilities if no action is taken.',\n",
              " \"Diagnostic and treatment options are currently insufficient, and many clinical trials are urgently needed to rigorously test treatments that address hypothesized underlying biological mechanisms, including viral persistence, neuroinflammation, excessive blood clotting and autoimmunity.'\"]"
            ]
          },
          "metadata": {},
          "execution_count": 42
        }
      ]
    },
    {
      "cell_type": "code",
      "source": [
        "sentence_scores = {}\n",
        "for sent in sent_token:\n",
        "    sentence = sent.split(\" \")\n",
        "    for word in sentence:        \n",
        "        if word.lower() in word_frequencies.keys():\n",
        "            if sent not in sentence_scores.keys():\n",
        "                sentence_scores[sent] = word_frequencies[word.lower()]\n",
        "            else:\n",
        "                sentence_scores[sent] += word_frequencies[word.lower()]"
      ],
      "metadata": {
        "id": "_S8TUcMeqXI5"
      },
      "execution_count": 43,
      "outputs": []
    },
    {
      "cell_type": "code",
      "source": [
        "sentence_scores"
      ],
      "metadata": {
        "colab": {
          "base_uri": "https://localhost:8080/"
        },
        "id": "DMciC4DVqdbX",
        "outputId": "e22c431c-8373-4416-d3c5-5c572476bf18"
      },
      "execution_count": 44,
      "outputs": [
        {
          "output_type": "execute_result",
          "data": {
            "text/plain": [
              "{\"b'Long COVID is an often debilitating illness that occurs in at least 10% of severe acute respiratory syndrome coronavirus\\\\xc2\\\\xa02 (SARS-CoV-2) infections.\": 1.875,\n",
              " 'More than 200 symptoms have been identified with impacts on multiple organ systems.': 1.25,\n",
              " 'At least 65 million individuals worldwide are estimated to have long COVID, with cases increasing daily.': 2.25,\n",
              " 'Biomedical research has made substantial progress in identifying various pathophysiological changes and risk factors and in characterizing the illness; further, similarities with other viral-onset illnesses such as myalgic encephalomyelitis/chronic fatigue syndrome and postural orthostatic tachycardia syndrome have laid the groundwork for research in the field.': 5.25,\n",
              " 'In this Review, we explore the current literature and highlight key findings, the overlap with other conditions, the variable onset of symptoms, long COVID in children and the impact of vaccinations.': 2.25,\n",
              " 'Although these key findings are critical to understanding long COVID, current diagnostic and treatment options are insufficient, and clinical trials must be prioritized that address leading hypotheses.': 3.625,\n",
              " 'Additionally, to strengthen long COVID research, future studies must account for biases and SARS-CoV-2 testing issues, build on viral-onset research, be inclusive of marginalized populations and meaningfully engage patients throughout the research process.': 3.875,\n",
              " 'None Long COVID is a multisystemic illness encompassing ME/CFS, dysautonomia, impacts on multiple organ systems, and vascular and clotting abnormalities.': 2.5,\n",
              " 'It has already debilitated millions of individuals worldwide, and that number is continuing to grow.': 1.0,\n",
              " 'On the basis of more than 2 years of research on long COVID and decades of research on conditions such as ME/CFS, a significant proportion of individuals with long COVID may have lifelong disabilities if no action is taken.': 5.125,\n",
              " \"Diagnostic and treatment options are currently insufficient, and many clinical trials are urgently needed to rigorously test treatments that address hypothesized underlying biological mechanisms, including viral persistence, neuroinflammation, excessive blood clotting and autoimmunity.'\": 3.375}"
            ]
          },
          "metadata": {},
          "execution_count": 44
        }
      ]
    },
    {
      "cell_type": "code",
      "source": [
        "from heapq import nlargest"
      ],
      "metadata": {
        "id": "Oqo2lYKNqjhd"
      },
      "execution_count": 45,
      "outputs": []
    },
    {
      "cell_type": "code",
      "source": [
        "#Select or specify a threshold value\n",
        "#Using the n largest library to get 2% of the weighted sentences\n",
        "select_length = int(len(sent_token)*0.05)\n",
        "select_length"
      ],
      "metadata": {
        "colab": {
          "base_uri": "https://localhost:8080/"
        },
        "id": "ZWuN5PWBqlLj",
        "outputId": "929b16a2-2788-44d2-a004-23ff1cbb7767"
      },
      "execution_count": 46,
      "outputs": [
        {
          "output_type": "execute_result",
          "data": {
            "text/plain": [
              "0"
            ]
          },
          "metadata": {},
          "execution_count": 46
        }
      ]
    },
    {
      "cell_type": "code",
      "source": [
        "\n",
        "sum = nlargest(select_length, sentence_scores, key = sentence_scores.get)"
      ],
      "metadata": {
        "id": "wrMMHrgwqoSJ"
      },
      "execution_count": 47,
      "outputs": []
    },
    {
      "cell_type": "code",
      "source": [
        "sum"
      ],
      "metadata": {
        "colab": {
          "base_uri": "https://localhost:8080/"
        },
        "id": "Gw9O9NVjqtzB",
        "outputId": "027c2735-9bc1-4f79-c55e-cdc604b542f9"
      },
      "execution_count": 48,
      "outputs": [
        {
          "output_type": "execute_result",
          "data": {
            "text/plain": [
              "[]"
            ]
          },
          "metadata": {},
          "execution_count": 48
        }
      ]
    },
    {
      "cell_type": "code",
      "source": [
        "#Generate the final summary by joining the n number of sentences\n",
        "final_summary = [word for word in sum]\n",
        "summary = ' '.join(final_summary)"
      ],
      "metadata": {
        "id": "PGpIH-pMquzt"
      },
      "execution_count": 49,
      "outputs": []
    },
    {
      "cell_type": "code",
      "source": [
        "#The summary\n",
        "summary"
      ],
      "metadata": {
        "colab": {
          "base_uri": "https://localhost:8080/",
          "height": 35
        },
        "id": "N6mo6nv8qy-m",
        "outputId": "c392b893-e8c2-413e-9c7e-cc18f0d34752"
      },
      "execution_count": 50,
      "outputs": [
        {
          "output_type": "execute_result",
          "data": {
            "text/plain": [
              "''"
            ],
            "application/vnd.google.colaboratory.intrinsic+json": {
              "type": "string"
            }
          },
          "metadata": {},
          "execution_count": 50
        }
      ]
    },
    {
      "cell_type": "code",
      "source": [
        "#Evaluation\n",
        "#Read the reference summary\n",
        "ref_summary = '''Our infectious disease colleagues are adamant that restricting the movement of people into and around the hospital setting are effective clinical and epidemiological strategies that will help protect both the vulnerable patient population and health care providers themselves, \n",
        "who need to stay healthy so that they may care for their patients. In a health care institution, visitation restrictions not only affect inpatients but also have an impact on ambulatory patients who must come for diagnostic tests or interventions and who, if deprived access, might develop urgent or emergent conditions.\n",
        "Feedback should be sought from those individuals who would be affected by visitation restrictions, such as staff, patients and family members.Health care workers, being in direct communication with patients and families, bear the brunt of their anger and frustration regarding any restriction in visitation.\n",
        "If a family is allowed to visit a patient whose death is presumed to be imminent, then the patient's identity should be protected by using privacy strategies.\n",
        "'''\n",
        "!pip install -r rouge/requirements.txt\n",
        "!pip install rouge-score\n",
        "from rouge_score import rouge_scorer\n",
        "\n",
        "scorer = rouge_scorer.RougeScorer(['rouge1','rouge2'], use_stemmer=True)\n",
        "scores = scorer.score(ref_summary,summary)\n",
        "                      \n",
        "scores"
      ],
      "metadata": {
        "colab": {
          "base_uri": "https://localhost:8080/"
        },
        "id": "_vGXWgaPq7-x",
        "outputId": "30ec9651-89c0-4dc9-b806-d7bba12f2610"
      },
      "execution_count": 51,
      "outputs": [
        {
          "output_type": "stream",
          "name": "stdout",
          "text": [
            "\u001b[31mERROR: Could not open requirements file: [Errno 2] No such file or directory: 'rouge/requirements.txt'\u001b[0m\u001b[31m\n",
            "\u001b[0mLooking in indexes: https://pypi.org/simple, https://us-python.pkg.dev/colab-wheels/public/simple/\n",
            "Requirement already satisfied: rouge-score in /usr/local/lib/python3.10/dist-packages (0.1.2)\n",
            "Requirement already satisfied: absl-py in /usr/local/lib/python3.10/dist-packages (from rouge-score) (1.4.0)\n",
            "Requirement already satisfied: six>=1.14.0 in /usr/local/lib/python3.10/dist-packages (from rouge-score) (1.16.0)\n",
            "Requirement already satisfied: nltk in /usr/local/lib/python3.10/dist-packages (from rouge-score) (3.8.1)\n",
            "Requirement already satisfied: numpy in /usr/local/lib/python3.10/dist-packages (from rouge-score) (1.22.4)\n",
            "Requirement already satisfied: joblib in /usr/local/lib/python3.10/dist-packages (from nltk->rouge-score) (1.2.0)\n",
            "Requirement already satisfied: regex>=2021.8.3 in /usr/local/lib/python3.10/dist-packages (from nltk->rouge-score) (2022.10.31)\n",
            "Requirement already satisfied: click in /usr/local/lib/python3.10/dist-packages (from nltk->rouge-score) (8.1.3)\n",
            "Requirement already satisfied: tqdm in /usr/local/lib/python3.10/dist-packages (from nltk->rouge-score) (4.65.0)\n"
          ]
        },
        {
          "output_type": "execute_result",
          "data": {
            "text/plain": [
              "{'rouge1': Score(precision=0.0, recall=0.0, fmeasure=0.0),\n",
              " 'rouge2': Score(precision=0.0, recall=0.0, fmeasure=0.0)}"
            ]
          },
          "metadata": {},
          "execution_count": 51
        }
      ]
    },
    {
      "cell_type": "code",
      "source": [
        "### length of full text and word count\n",
        "print(\"Word count of full text is:\",len(text.split()))\n",
        "# length of summarized text and word count\n",
        "print(\"Word count of reference summarized text is:\",len(ref_summary.split()))\n",
        "print(\"Word count of summarized text is:\",len(summary.split()))"
      ],
      "metadata": {
        "colab": {
          "base_uri": "https://localhost:8080/"
        },
        "id": "3WWTV-yVrgVO",
        "outputId": "b982dffc-b80f-44e7-9db6-f23ceeb03234"
      },
      "execution_count": 52,
      "outputs": [
        {
          "output_type": "stream",
          "name": "stdout",
          "text": [
            "Word count of full text is: 293\n",
            "Word count of reference summarized text is: 160\n",
            "Word count of summarized text is: 0\n"
          ]
        }
      ]
    },
    {
      "cell_type": "code",
      "source": [
        "### length of full text and word count\n",
        "print(\"Word count of full text is:\",len(text.split()))\n",
        "# length of summarized text and word count\n",
        "print(\"Word count of summarized text is:\",len(summary.split()))\n",
        "#Reading time of text\n",
        "print('Reading time of full text (mins):',(len(text.split())/265))\n",
        "#Reading time of text\n",
        "print('Reading time of summary(mins):',(len(summary.split())/265))\n",
        "print('The Rouge Metrics are:\\n')\n",
        "scores"
      ],
      "metadata": {
        "colab": {
          "base_uri": "https://localhost:8080/"
        },
        "id": "-vROaTLVrpNx",
        "outputId": "88e40176-4dac-4068-f82e-9c0372233f04"
      },
      "execution_count": 53,
      "outputs": [
        {
          "output_type": "stream",
          "name": "stdout",
          "text": [
            "Word count of full text is: 293\n",
            "Word count of summarized text is: 0\n",
            "Reading time of full text (mins): 1.1056603773584905\n",
            "Reading time of summary(mins): 0.0\n",
            "The Rouge Metrics are:\n",
            "\n"
          ]
        },
        {
          "output_type": "execute_result",
          "data": {
            "text/plain": [
              "{'rouge1': Score(precision=0.0, recall=0.0, fmeasure=0.0),\n",
              " 'rouge2': Score(precision=0.0, recall=0.0, fmeasure=0.0)}"
            ]
          },
          "metadata": {},
          "execution_count": 53
        }
      ]
    }
  ]
}